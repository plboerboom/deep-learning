{
 "cells": [
  {
   "cell_type": "markdown",
   "metadata": {
    "collapsed": true,
    "deletable": true,
    "editable": true
   },
   "source": [
    "# Image Classification\n",
    "In this project, you'll classify images from the [CIFAR-10 dataset](https://www.cs.toronto.edu/~kriz/cifar.html).  The dataset consists of airplanes, dogs, cats, and other objects. You'll preprocess the images, then train a convolutional neural network on all the samples. The images need to be normalized and the labels need to be one-hot encoded.  You'll get to apply what you learned and build a convolutional, max pooling, dropout, and fully connected layers.  At the end, you'll get to see your neural network's predictions on the sample images.\n",
    "## Get the Data\n",
    "Run the following cell to download the [CIFAR-10 dataset for python](https://www.cs.toronto.edu/~kriz/cifar-10-python.tar.gz)."
   ]
  },
  {
   "cell_type": "code",
   "execution_count": 711,
   "metadata": {
    "collapsed": false,
    "deletable": true,
    "editable": true
   },
   "outputs": [
    {
     "name": "stdout",
     "output_type": "stream",
     "text": [
      "All files found!\n"
     ]
    }
   ],
   "source": [
    "\"\"\"\n",
    "DON'T MODIFY ANYTHING IN THIS CELL THAT IS BELOW THIS LINE\n",
    "\"\"\"\n",
    "from urllib.request import urlretrieve\n",
    "from os.path import isfile, isdir\n",
    "from tqdm import tqdm\n",
    "import problem_unittests as tests\n",
    "import tarfile\n",
    "\n",
    "cifar10_dataset_folder_path = 'cifar-10-batches-py'\n",
    "\n",
    "class DLProgress(tqdm):\n",
    "    last_block = 0\n",
    "\n",
    "    def hook(self, block_num=1, block_size=1, total_size=None):\n",
    "        self.total = total_size\n",
    "        self.update((block_num - self.last_block) * block_size)\n",
    "        self.last_block = block_num\n",
    "\n",
    "if not isfile('cifar-10-python.tar.gz'):\n",
    "    with DLProgress(unit='B', unit_scale=True, miniters=1, desc='CIFAR-10 Dataset') as pbar:\n",
    "        urlretrieve(\n",
    "            'https://www.cs.toronto.edu/~kriz/cifar-10-python.tar.gz',\n",
    "            'cifar-10-python.tar.gz',\n",
    "            pbar.hook)\n",
    "\n",
    "if not isdir(cifar10_dataset_folder_path):\n",
    "    with tarfile.open('cifar-10-python.tar.gz') as tar:\n",
    "        tar.extractall()\n",
    "        tar.close()\n",
    "\n",
    "\n",
    "tests.test_folder_path(cifar10_dataset_folder_path)"
   ]
  },
  {
   "cell_type": "markdown",
   "metadata": {
    "deletable": true,
    "editable": true
   },
   "source": [
    "## Explore the Data\n",
    "The dataset is broken into batches to prevent your machine from running out of memory.  The CIFAR-10 dataset consists of 5 batches, named `data_batch_1`, `data_batch_2`, etc.. Each batch contains the labels and images that are one of the following:\n",
    "* airplane\n",
    "* automobile\n",
    "* bird\n",
    "* cat\n",
    "* deer\n",
    "* dog\n",
    "* frog\n",
    "* horse\n",
    "* ship\n",
    "* truck\n",
    "\n",
    "Understanding a dataset is part of making predictions on the data.  Play around with the code cell below by changing the `batch_id` and `sample_id`. The `batch_id` is the id for a batch (1-5). The `sample_id` is the id for a image and label pair in the batch.\n",
    "\n",
    "Ask yourself \"What are all possible labels?\", \"What is the range of values for the image data?\", \"Are the labels in order or random?\".  Answers to questions like these will help you preprocess the data and end up with better predictions."
   ]
  },
  {
   "cell_type": "code",
   "execution_count": 712,
   "metadata": {
    "collapsed": false,
    "deletable": true,
    "editable": true
   },
   "outputs": [
    {
     "name": "stdout",
     "output_type": "stream",
     "text": [
      "\n",
      "Stats of batch 1:\n",
      "Samples: 10000\n",
      "Label Counts: {0: 1005, 1: 974, 2: 1032, 3: 1016, 4: 999, 5: 937, 6: 1030, 7: 1001, 8: 1025, 9: 981}\n",
      "First 20 Labels: [6, 9, 9, 4, 1, 1, 2, 7, 8, 3, 4, 7, 7, 2, 9, 9, 9, 3, 2, 6]\n",
      "\n",
      "Example of Image 7:\n",
      "Image - Min Value: 9 Max Value: 248\n",
      "Image - Shape: (32, 32, 3)\n",
      "Label - Label Id: 7 Name: horse\n"
     ]
    },
    {
     "data": {
      "image/png": "[encoded data removed]",
      "text/plain": [
       "<matplotlib.figure.Figure at 0x7f92766a8eb8>"
      ]
     },
     "metadata": {
      "image/png": {
       "height": 250,
       "width": 253
      }
     },
     "output_type": "display_data"
    }
   ],
   "source": [
    "%matplotlib inline\n",
    "%config InlineBackend.figure_format = 'retina'\n",
    "\n",
    "import helper\n",
    "import numpy as np\n",
    "\n",
    "# Explore the dataset\n",
    "batch_id = 1\n",
    "sample_id = 7\n",
    "helper.display_stats(cifar10_dataset_folder_path, batch_id, sample_id)"
   ]
  },
  {
   "cell_type": "markdown",
   "metadata": {
    "deletable": true,
    "editable": true
   },
   "source": [
    "## Implement Preprocess Functions\n",
    "### Normalize\n",
    "In the cell below, implement the `normalize` function to take in image data, `x`, and return it as a normalized Numpy array. The values should be in the range of 0 to 1, inclusive.  The return object should be the same shape as `x`."
   ]
  },
  {
   "cell_type": "code",
   "execution_count": 713,
   "metadata": {
    "collapsed": false,
    "deletable": true,
    "editable": true
   },
   "outputs": [
    {
     "name": "stdout",
     "output_type": "stream",
     "text": [
      "Tests Passed\n"
     ]
    }
   ],
   "source": [
    "def normalize(x):\n",
    "    \"\"\"\n",
    "    Normalize a list of sample image data in the range of 0 to 1\n",
    "    : x: List of image data.  The image shape is (32, 32, 3)\n",
    "    : return: Numpy array of normalized data\n",
    "    \"\"\"\n",
    "    xmin = np.min(x)\n",
    "    xmax = np.max(x)\n",
    "    return (x - xmin) / (xmax - xmin)\n",
    "\n",
    "\n",
    "\"\"\"\n",
    "DON'T MODIFY ANYTHING IN THIS CELL THAT IS BELOW THIS LINE\n",
    "\"\"\"\n",
    "tests.test_normalize(normalize)"
   ]
  },
  {
   "cell_type": "markdown",
   "metadata": {
    "deletable": true,
    "editable": true
   },
   "source": [
    "### One-hot encode\n",
    "Just like the previous code cell, you'll be implementing a function for preprocessing.  This time, you'll implement the `one_hot_encode` function. The input, `x`, are a list of labels.  Implement the function to return the list of labels as One-Hot encoded Numpy array.  The possible values for labels are 0 to 9. The one-hot encoding function should return the same encoding for each value between each call to `one_hot_encode`.  Make sure to save the map of encodings outside the function.\n",
    "\n",
    "Hint: Don't reinvent the wheel."
   ]
  },
  {
   "cell_type": "code",
   "execution_count": 714,
   "metadata": {
    "collapsed": false,
    "deletable": true,
    "editable": true
   },
   "outputs": [
    {
     "name": "stdout",
     "output_type": "stream",
     "text": [
      "Tests Passed\n"
     ]
    }
   ],
   "source": [
    "from sklearn.preprocessing import LabelBinarizer\n",
    "\n",
    "lb = LabelBinarizer()\n",
    "lb.fit(range(len(helper._load_label_names())))\n",
    "\n",
    "def one_hot_encode(x):\n",
    "    \"\"\"\n",
    "    One hot encode a list of sample labels. Return a one-hot encoded vector for each label.\n",
    "    : x: List of sample Labels\n",
    "    : return: Numpy array of one-hot encoded labels\n",
    "    \"\"\"\n",
    "    return lb.transform(x)\n",
    "\n",
    "\n",
    "\"\"\"\n",
    "DON'T MODIFY ANYTHING IN THIS CELL THAT IS BELOW THIS LINE\n",
    "\"\"\"\n",
    "tests.test_one_hot_encode(one_hot_encode)"
   ]
  },
  {
   "cell_type": "markdown",
   "metadata": {
    "deletable": true,
    "editable": true
   },
   "source": [
    "### Randomize Data\n",
    "As you saw from exploring the data above, the order of the samples are randomized.  It doesn't hurt to randomize it again, but you don't need to for this dataset."
   ]
  },
  {
   "cell_type": "markdown",
   "metadata": {
    "deletable": true,
    "editable": true
   },
   "source": [
    "## Preprocess all the data and save it\n",
    "Running the code cell below will preprocess all the CIFAR-10 data and save it to file. The code below also uses 10% of the training data for validation."
   ]
  },
  {
   "cell_type": "code",
   "execution_count": 715,
   "metadata": {
    "collapsed": false,
    "deletable": true,
    "editable": true
   },
   "outputs": [],
   "source": [
    "\"\"\"\n",
    "DON'T MODIFY ANYTHING IN THIS CELL\n",
    "\"\"\"\n",
    "# Preprocess Training, Validation, and Testing Data\n",
    "helper.preprocess_and_save_data(cifar10_dataset_folder_path, normalize, one_hot_encode)"
   ]
  },
  {
   "cell_type": "markdown",
   "metadata": {
    "deletable": true,
    "editable": true
   },
   "source": [
    "# Check Point\n",
    "This is your first checkpoint.  If you ever decide to come back to this notebook or have to restart the notebook, you can start from here.  The preprocessed data has been saved to disk."
   ]
  },
  {
   "cell_type": "code",
   "execution_count": 716,
   "metadata": {
    "collapsed": true,
    "deletable": true,
    "editable": true
   },
   "outputs": [],
   "source": [
    "\"\"\"\n",
    "DON'T MODIFY ANYTHING IN THIS CELL\n",
    "\"\"\"\n",
    "import pickle\n",
    "import problem_unittests as tests\n",
    "import helper\n",
    "\n",
    "# Load the Preprocessed Validation data\n",
    "valid_features, valid_labels = pickle.load(open('preprocess_validation.p', mode='rb'))"
   ]
  },
  {
   "cell_type": "markdown",
   "metadata": {
    "deletable": true,
    "editable": true
   },
   "source": [
    "## Build the network\n",
    "For the neural network, you'll build each layer into a function.  Most of the code you've seen has been outside of functions. To test your code more thoroughly, we require that you put each layer in a function.  This allows us to give you better feedback and test for simple mistakes using our unittests before you submit your project.\n",
    "\n",
    ">**Note:** If you're finding it hard to dedicate enough time for this course each week, we've provided a small shortcut to this part of the project. In the next couple of problems, you'll have the option to use classes from the [TensorFlow Layers](https://www.tensorflow.org/api_docs/python/tf/layers) or [TensorFlow Layers (contrib)](https://www.tensorflow.org/api_guides/python/contrib.layers) packages to build each layer, except the layers you build in the \"Convolutional and Max Pooling Layer\" section.  TF Layers is similar to Keras's and TFLearn's abstraction to layers, so it's easy to pickup.\n",
    "\n",
    ">However, if you would like to get the most out of this course, try to solve all the problems _without_ using anything from the TF Layers packages. You **can** still use classes from other packages that happen to have the same name as ones you find in TF Layers! For example, instead of using the TF Layers version of the `conv2d` class, [tf.layers.conv2d](https://www.tensorflow.org/api_docs/python/tf/layers/conv2d), you would want to use the TF Neural Network version of `conv2d`, [tf.nn.conv2d](https://www.tensorflow.org/api_docs/python/tf/nn/conv2d). \n",
    "\n",
    "Let's begin!\n",
    "\n",
    "### Input\n",
    "The neural network needs to read the image data, one-hot encoded labels, and dropout keep probability. Implement the following functions\n",
    "* Implement `neural_net_image_input`\n",
    " * Return a [TF Placeholder](https://www.tensorflow.org/api_docs/python/tf/placeholder)\n",
    " * Set the shape using `image_shape` with batch size set to `None`.\n",
    " * Name the TensorFlow placeholder \"x\" using the TensorFlow `name` parameter in the [TF Placeholder](https://www.tensorflow.org/api_docs/python/tf/placeholder).\n",
    "* Implement `neural_net_label_input`\n",
    " * Return a [TF Placeholder](https://www.tensorflow.org/api_docs/python/tf/placeholder)\n",
    " * Set the shape using `n_classes` with batch size set to `None`.\n",
    " * Name the TensorFlow placeholder \"y\" using the TensorFlow `name` parameter in the [TF Placeholder](https://www.tensorflow.org/api_docs/python/tf/placeholder).\n",
    "* Implement `neural_net_keep_prob_input`\n",
    " * Return a [TF Placeholder](https://www.tensorflow.org/api_docs/python/tf/placeholder) for dropout keep probability.\n",
    " * Name the TensorFlow placeholder \"keep_prob\" using the TensorFlow `name` parameter in the [TF Placeholder](https://www.tensorflow.org/api_docs/python/tf/placeholder).\n",
    "\n",
    "These names will be used at the end of the project to load your saved model.\n",
    "\n",
    "Note: `None` for shapes in TensorFlow allow for a dynamic size."
   ]
  },
  {
   "cell_type": "code",
   "execution_count": 717,
   "metadata": {
    "collapsed": false,
    "deletable": true,
    "editable": true
   },
   "outputs": [
    {
     "name": "stdout",
     "output_type": "stream",
     "text": [
      "Image Input Tests Passed.\n",
      "Label Input Tests Passed.\n",
      "Keep Prob Tests Passed.\n"
     ]
    }
   ],
   "source": [
    "import tensorflow as tf\n",
    "\n",
    "def neural_net_image_input(image_shape):\n",
    "    \"\"\"\n",
    "    Return a Tensor for a batch of image input\n",
    "    : image_shape: Shape of the images\n",
    "    : return: Tensor for image input.\n",
    "    \"\"\"\n",
    "    shape = (\n",
    "        None,\n",
    "        image_shape[0],\n",
    "        image_shape[1],\n",
    "        image_shape[2]\n",
    "    )\n",
    "    return tf.placeholder(tf.float32, shape=shape, name='x')\n",
    "\n",
    "\n",
    "def neural_net_label_input(n_classes):\n",
    "    \"\"\"\n",
    "    Return a Tensor for a batch of label input\n",
    "    : n_classes: Number of classes\n",
    "    : return: Tensor for label input.\n",
    "    \"\"\"\n",
    "    shape = (None, n_classes)\n",
    "    return tf.placeholder(tf.float32, shape=shape, name='y')\n",
    "\n",
    "\n",
    "def neural_net_keep_prob_input():\n",
    "    \"\"\"\n",
    "    Return a Tensor for keep probability\n",
    "    : return: Tensor for keep probability.\n",
    "    \"\"\"\n",
    "    return tf.placeholder(tf.float32, name='keep_prob')\n",
    "\n",
    "\n",
    "\"\"\"\n",
    "DON'T MODIFY ANYTHING IN THIS CELL THAT IS BELOW THIS LINE\n",
    "\"\"\"\n",
    "tf.reset_default_graph()\n",
    "tests.test_nn_image_inputs(neural_net_image_input)\n",
    "tests.test_nn_label_inputs(neural_net_label_input)\n",
    "tests.test_nn_keep_prob_inputs(neural_net_keep_prob_input)"
   ]
  },
  {
   "cell_type": "markdown",
   "metadata": {
    "deletable": true,
    "editable": true
   },
   "source": [
    "### Convolution and Max Pooling Layer\n",
    "Convolution layers have a lot of success with images. For this code cell, you should implement the function `conv2d_maxpool` to apply convolution then max pooling:\n",
    "* Create the weight and bias using `conv_ksize`, `conv_num_outputs` and the shape of `x_tensor`.\n",
    "* Apply a convolution to `x_tensor` using weight and `conv_strides`.\n",
    " * We recommend you use same padding, but you're welcome to use any padding.\n",
    "* Add bias\n",
    "* Add a nonlinear activation to the convolution.\n",
    "* Apply Max Pooling using `pool_ksize` and `pool_strides`.\n",
    " * We recommend you use same padding, but you're welcome to use any padding.\n",
    "\n",
    "**Note:** You **can't** use [TensorFlow Layers](https://www.tensorflow.org/api_docs/python/tf/layers) or [TensorFlow Layers (contrib)](https://www.tensorflow.org/api_guides/python/contrib.layers) for **this** layer, but you can still use TensorFlow's [Neural Network](https://www.tensorflow.org/api_docs/python/tf/nn) package. You may still use the shortcut option for all the **other** layers."
   ]
  },
  {
   "cell_type": "code",
   "execution_count": 718,
   "metadata": {
    "collapsed": false,
    "deletable": true,
    "editable": true
   },
   "outputs": [
    {
     "name": "stdout",
     "output_type": "stream",
     "text": [
      "Tests Passed\n"
     ]
    }
   ],
   "source": [
    "truncated_normal_stddev = 0.05\n",
    "def conv2d(x_tensor, conv_num_outputs, conv_ksize, conv_strides):\n",
    "    \"\"\"\n",
    "    Apply convolution then max pooling to x_tensor\n",
    "    :param x_tensor: TensorFlow Tensor\n",
    "    :param conv_num_outputs: Number of outputs for the convolutional layer\n",
    "    :param conv_ksize: kernal size 2-D Tuple for the convolutional layer\n",
    "    :param conv_strides: Stride 2-D Tuple for convolution\n",
    "    : return: A tensor that represents convolution and max pooling of x_tensor\n",
    "    \"\"\"\n",
    "    n_channels = x_tensor.shape.as_list()[-1]\n",
    "    filter_shape = (\n",
    "        conv_ksize[0],\n",
    "        conv_ksize[1],\n",
    "        n_channels,\n",
    "        conv_num_outputs\n",
    "    )\n",
    "    \n",
    "    filter_tensor = tf.Variable(\n",
    "        tf.truncated_normal(\n",
    "            shape=filter_shape, \n",
    "            stddev=truncated_normal_stddev\n",
    "        )\n",
    "    )\n",
    "    _conv_strides = (1, conv_strides[0], conv_strides[1], 1)\n",
    "    \n",
    "    conv_tensor = tf.nn.conv2d(\n",
    "        input=x_tensor,\n",
    "        filter=filter_tensor,\n",
    "        strides=_conv_strides,\n",
    "        padding='SAME'\n",
    "    )\n",
    "    \n",
    "    return tf.nn.relu(conv_tensor)\n",
    "\n",
    "\n",
    "def maxpool(x_tensor, pool_ksize, pool_strides):\n",
    "    \"\"\"\n",
    "    Apply convolution then max pooling to x_tensor\n",
    "    :param x_tensor: TensorFlow Tensor\n",
    "    :param pool_ksize: kernal size 2-D Tuple for pool\n",
    "    :param pool_strides: Stride 2-D Tuple for pool\n",
    "    : return: A tensor that represents convolution and max pooling of x_tensor\n",
    "    \"\"\"\n",
    "    _pool_strides = (1, pool_strides[0], pool_strides[1], 1)\n",
    "    _pool_ksize = (1, pool_ksize[0], pool_ksize[1], 1)\n",
    "    \n",
    "    maxpool_tensor = tf.nn.max_pool(\n",
    "        value=x_tensor,\n",
    "        ksize=_pool_ksize,\n",
    "        strides=_pool_strides,\n",
    "        padding='SAME'\n",
    "    )\n",
    "    \n",
    "    return maxpool_tensor \n",
    "\n",
    "\n",
    "def conv2d_maxpool(x_tensor, conv_num_outputs, conv_ksize, conv_strides, pool_ksize, pool_strides):\n",
    "    \"\"\"\n",
    "    Apply convolution then max pooling to x_tensor\n",
    "    :param x_tensor: TensorFlow Tensor\n",
    "    :param conv_num_outputs: Number of outputs for the convolutional layer\n",
    "    :param conv_ksize: kernal size 2-D Tuple for the convolutional layer\n",
    "    :param conv_strides: Stride 2-D Tuple for convolution\n",
    "    :param pool_ksize: kernal size 2-D Tuple for pool\n",
    "    :param pool_strides: Stride 2-D Tuple for pool\n",
    "    : return: A tensor that represents convolution and max pooling of x_tensor\n",
    "    \"\"\"\n",
    "    n_channels = x_tensor.shape.as_list()[-1]\n",
    "    filter_shape = (\n",
    "        conv_ksize[0],\n",
    "        conv_ksize[1],\n",
    "        n_channels,\n",
    "        conv_num_outputs\n",
    "    )\n",
    "    \n",
    "    filter_tensor = tf.Variable(\n",
    "        tf.truncated_normal(\n",
    "            shape=filter_shape, \n",
    "            stddev=truncated_normal_stddev\n",
    "        )\n",
    "    )\n",
    "    _conv_strides = (1, conv_strides[0], conv_strides[1], 1)\n",
    "    \n",
    "    conv_tensor = tf.nn.conv2d(\n",
    "        input=x_tensor,\n",
    "        filter=filter_tensor,\n",
    "        strides=_conv_strides,\n",
    "        padding='SAME'\n",
    "    )\n",
    "    #TODO: should there be biases here?\n",
    "    conv_tensor = tf.nn.relu(conv_tensor)\n",
    "    \n",
    "    _pool_strides = (1, pool_strides[0], pool_strides[1], 1)\n",
    "    _pool_ksize = (1, pool_ksize[0], pool_ksize[1], 1)\n",
    "    \n",
    "    maxpool_tensor = tf.nn.max_pool(\n",
    "        value=conv_tensor,\n",
    "        ksize=_pool_ksize,\n",
    "        strides=_pool_strides,\n",
    "        padding='SAME'\n",
    "    )\n",
    "    \n",
    "    return maxpool_tensor \n",
    "\n",
    "\n",
    "\"\"\"\n",
    "DON'T MODIFY ANYTHING IN THIS CELL THAT IS BELOW THIS LINE\n",
    "\"\"\"\n",
    "tests.test_con_pool(conv2d_maxpool)"
   ]
  },
  {
   "cell_type": "markdown",
   "metadata": {
    "deletable": true,
    "editable": true
   },
   "source": [
    "### Flatten Layer\n",
    "Implement the `flatten` function to change the dimension of `x_tensor` from a 4-D tensor to a 2-D tensor.  The output should be the shape (*Batch Size*, *Flattened Image Size*). Shortcut option: you can use classes from the [TensorFlow Layers](https://www.tensorflow.org/api_docs/python/tf/layers) or [TensorFlow Layers (contrib)](https://www.tensorflow.org/api_guides/python/contrib.layers) packages for this layer. For more of a challenge, only use other TensorFlow packages."
   ]
  },
  {
   "cell_type": "code",
   "execution_count": 719,
   "metadata": {
    "collapsed": false,
    "deletable": true,
    "editable": true
   },
   "outputs": [
    {
     "name": "stdout",
     "output_type": "stream",
     "text": [
      "Tests Passed\n"
     ]
    }
   ],
   "source": [
    "def flatten(x_tensor):\n",
    "    \"\"\"\n",
    "    Flatten x_tensor to (Batch Size, Flattened Image Size)\n",
    "    : x_tensor: A tensor of size (Batch Size, ...), where ... are the image dimensions.\n",
    "    : return: A tensor of size (Batch Size, Flattened Image Size).\n",
    "    \"\"\"\n",
    "    shape = x_tensor.shape.as_list()\n",
    "    new_shape = (-1, np.prod(shape[1:]))\n",
    "    flat_tensor = tf.reshape(x_tensor, new_shape)\n",
    "    return flat_tensor\n",
    "\n",
    "\n",
    "\"\"\"\n",
    "DON'T MODIFY ANYTHING IN THIS CELL THAT IS BELOW THIS LINE\n",
    "\"\"\"\n",
    "tests.test_flatten(flatten)"
   ]
  },
  {
   "cell_type": "markdown",
   "metadata": {
    "deletable": true,
    "editable": true
   },
   "source": [
    "### Fully-Connected Layer\n",
    "Implement the `fully_conn` function to apply a fully connected layer to `x_tensor` with the shape (*Batch Size*, *num_outputs*). Shortcut option: you can use classes from the [TensorFlow Layers](https://www.tensorflow.org/api_docs/python/tf/layers) or [TensorFlow Layers (contrib)](https://www.tensorflow.org/api_guides/python/contrib.layers) packages for this layer. For more of a challenge, only use other TensorFlow packages."
   ]
  },
  {
   "cell_type": "code",
   "execution_count": 742,
   "metadata": {
    "collapsed": false,
    "deletable": true,
    "editable": true
   },
   "outputs": [
    {
     "name": "stdout",
     "output_type": "stream",
     "text": [
      "Tests Passed\n"
     ]
    }
   ],
   "source": [
    "def fully_conn(x_tensor, num_outputs):\n",
    "    \"\"\"\n",
    "    Apply a fully connected layer to x_tensor using weight and bias\n",
    "    : x_tensor: A 2-D tensor where the first dimension is batch size.\n",
    "    : num_outputs: The number of output that the new tensor should be.\n",
    "    : return: A 2-D tensor where the second dimension is num_outputs.\n",
    "    \"\"\"\n",
    "    weights = tf.Variable(\n",
    "        tf.truncated_normal(\n",
    "            shape=(\n",
    "                x_tensor.shape.as_list()[-1],\n",
    "                num_outputs\n",
    "            ),\n",
    "            stddev=truncated_normal_stddev\n",
    "        )\n",
    "    )\n",
    "    biases = tf.Variable(\n",
    "        tf.truncated_normal(\n",
    "            shape=[num_outputs],\n",
    "            stddev=truncated_normal_stddev\n",
    "        )\n",
    "    )\n",
    "    fc_tensor = tf.add(\n",
    "        tf.matmul(x_tensor, weights),\n",
    "        biases\n",
    "    )\n",
    "    return tf.nn.relu(fc_tensor)\n",
    "\n",
    "\n",
    "\"\"\"\n",
    "DON'T MODIFY ANYTHING IN THIS CELL THAT IS BELOW THIS LINE\n",
    "\"\"\"\n",
    "tests.test_fully_conn(fully_conn)"
   ]
  },
  {
   "cell_type": "markdown",
   "metadata": {
    "deletable": true,
    "editable": true
   },
   "source": [
    "### Output Layer\n",
    "Implement the `output` function to apply a fully connected layer to `x_tensor` with the shape (*Batch Size*, *num_outputs*). Shortcut option: you can use classes from the [TensorFlow Layers](https://www.tensorflow.org/api_docs/python/tf/layers) or [TensorFlow Layers (contrib)](https://www.tensorflow.org/api_guides/python/contrib.layers) packages for this layer. For more of a challenge, only use other TensorFlow packages.\n",
    "\n",
    "**Note:** Activation, softmax, or cross entropy should **not** be applied to this."
   ]
  },
  {
   "cell_type": "code",
   "execution_count": 743,
   "metadata": {
    "collapsed": false,
    "deletable": true,
    "editable": true
   },
   "outputs": [
    {
     "name": "stdout",
     "output_type": "stream",
     "text": [
      "Tests Passed\n"
     ]
    }
   ],
   "source": [
    "def output(x_tensor, num_outputs):\n",
    "    \"\"\"\n",
    "    Apply a output layer to x_tensor using weight and bias\n",
    "    : x_tensor: A 2-D tensor where the first dimension is batch size.\n",
    "    : num_outputs: The number of output that the new tensor should be.\n",
    "    : return: A 2-D tensor where the second dimension is num_outputs.\n",
    "    \"\"\"\n",
    "    weights = tf.Variable(\n",
    "        tf.truncated_normal(\n",
    "            shape=(\n",
    "                x_tensor.shape.as_list()[-1],\n",
    "                num_outputs\n",
    "            ),\n",
    "            stddev=truncated_normal_stddev\n",
    "        )\n",
    "    )\n",
    "    biases = tf.Variable(\n",
    "        tf.truncated_normal(\n",
    "            shape=[num_outputs],\n",
    "            stddev=truncated_normal_stddev\n",
    "        )\n",
    "    )\n",
    "    fc_tensor = tf.add(\n",
    "        tf.matmul(x_tensor, weights),\n",
    "        biases\n",
    "    )\n",
    "    return fc_tensor\n",
    "\n",
    "\n",
    "\"\"\"\n",
    "DON'T MODIFY ANYTHING IN THIS CELL THAT IS BELOW THIS LINE\n",
    "\"\"\"\n",
    "tests.test_output(output)"
   ]
  },
  {
   "cell_type": "markdown",
   "metadata": {
    "deletable": true,
    "editable": true
   },
   "source": [
    "### Create Convolutional Model\n",
    "Implement the function `conv_net` to create a convolutional neural network model. The function takes in a batch of images, `x`, and outputs logits.  Use the layers you created above to create this model:\n",
    "\n",
    "* Apply 1, 2, or 3 Convolution and Max Pool layers\n",
    "* Apply a Flatten Layer\n",
    "* Apply 1, 2, or 3 Fully Connected Layers\n",
    "* Apply an Output Layer\n",
    "* Return the output\n",
    "* Apply [TensorFlow's Dropout](https://www.tensorflow.org/api_docs/python/tf/nn/dropout) to one or more layers in the model using `keep_prob`. "
   ]
  },
  {
   "cell_type": "code",
   "execution_count": 759,
   "metadata": {
    "collapsed": false,
    "deletable": true,
    "editable": true
   },
   "outputs": [
    {
     "name": "stdout",
     "output_type": "stream",
     "text": [
      "Neural Network Built!\n"
     ]
    }
   ],
   "source": [
    "def conv_net(x, keep_prob):\n",
    "    \"\"\"\n",
    "    Create a convolutional neural network model\n",
    "    : x: Placeholder tensor that holds image data.\n",
    "    : keep_prob: Placeholder tensor that hold dropout keep probability.\n",
    "    : return: Tensor that represents logits\n",
    "    \"\"\"\n",
    "    pred = tf.identity(x)\n",
    "    pred = tf.nn.dropout(pred, tf.constant(0.9))\n",
    "    pred = conv2d(\n",
    "        pred,\n",
    "        16,\n",
    "        (3, 3),\n",
    "        (1, 1)\n",
    "    )\n",
    "    \n",
    "    pred = conv2d(\n",
    "        pred,\n",
    "        32,\n",
    "        (3, 3),\n",
    "        (1, 1)\n",
    "    )\n",
    "    \n",
    "    pred = maxpool(\n",
    "        pred,\n",
    "        (2, 2),\n",
    "        (1, 1)\n",
    "    )\n",
    "    \n",
    "    pred = conv2d(\n",
    "        pred,\n",
    "        16,\n",
    "        (3, 3),\n",
    "        (1, 1)\n",
    "    )\n",
    "    \n",
    "    pred = conv2d(\n",
    "        pred,\n",
    "        32,\n",
    "        (3, 3),\n",
    "        (1, 1)\n",
    "    )\n",
    "    \n",
    "    pred = maxpool(\n",
    "        pred,\n",
    "        (2, 2),\n",
    "        (1, 1)\n",
    "    )\n",
    "    \n",
    "    pred = conv2d(\n",
    "        pred,\n",
    "        64,\n",
    "        (4, 4),\n",
    "        (2, 2)\n",
    "    )\n",
    "    \n",
    "    pred = maxpool(\n",
    "        pred,\n",
    "        (2, 2),\n",
    "        (1, 1)\n",
    "    )\n",
    "    \n",
    "    pred = conv2d(\n",
    "        pred,\n",
    "        128,\n",
    "        (4, 4),\n",
    "        (2, 2)\n",
    "    )\n",
    "    \n",
    "    pred = maxpool(\n",
    "        pred,\n",
    "        (2, 2),\n",
    "        (1, 1)\n",
    "    )\n",
    "    \n",
    "    \n",
    "    \n",
    "    pred = flatten(pred)\n",
    "    pred = tf.nn.dropout(pred, keep_prob)\n",
    "\n",
    "    pred = fully_conn(pred, 160)\n",
    "    pred = tf.nn.dropout(pred, keep_prob)\n",
    "    \n",
    "    pred = fully_conn(pred, 200)\n",
    "    pred = tf.nn.dropout(pred, keep_prob)\n",
    "    \n",
    "    pred = fully_conn(pred, 80)\n",
    "    pred = tf.nn.dropout(pred, keep_prob)\n",
    "\n",
    "    pred = output(pred, 10)\n",
    "\n",
    "    return pred\n",
    "\n",
    "\n",
    "\"\"\"\n",
    "DON'T MODIFY ANYTHING IN THIS CELL THAT IS BELOW THIS LINE\n",
    "\"\"\"\n",
    "\n",
    "##############################\n",
    "## Build the Neural Network ##\n",
    "##############################\n",
    "\n",
    "# Remove previous weights, bias, inputs, etc..\n",
    "tf.reset_default_graph()\n",
    "\n",
    "# Inputs\n",
    "x = neural_net_image_input((32, 32, 3))\n",
    "y = neural_net_label_input(10)\n",
    "keep_prob = neural_net_keep_prob_input()\n",
    "\n",
    "# Model\n",
    "logits = conv_net(x, keep_prob)\n",
    "\n",
    "# Name logits Tensor, so that is can be loaded from disk after training\n",
    "logits = tf.identity(logits, name='logits')\n",
    "\n",
    "# Loss and Optimizer\n",
    "cost = tf.reduce_mean(tf.nn.softmax_cross_entropy_with_logits(logits=logits, labels=y))\n",
    "optimizer = tf.train.AdamOptimizer().minimize(cost)\n",
    "\n",
    "# Accuracy\n",
    "correct_pred = tf.equal(tf.argmax(logits, 1), tf.argmax(y, 1))\n",
    "accuracy = tf.reduce_mean(tf.cast(correct_pred, tf.float32), name='accuracy')\n",
    "\n",
    "tests.test_conv_net(conv_net)"
   ]
  },
  {
   "cell_type": "markdown",
   "metadata": {
    "deletable": true,
    "editable": true
   },
   "source": [
    "## Train the Neural Network\n",
    "### Single Optimization\n",
    "Implement the function `train_neural_network` to do a single optimization.  The optimization should use `optimizer` to optimize in `session` with a `feed_dict` of the following:\n",
    "* `x` for image input\n",
    "* `y` for labels\n",
    "* `keep_prob` for keep probability for dropout\n",
    "\n",
    "This function will be called for each batch, so `tf.global_variables_initializer()` has already been called.\n",
    "\n",
    "Note: Nothing needs to be returned. This function is only optimizing the neural network."
   ]
  },
  {
   "cell_type": "code",
   "execution_count": 760,
   "metadata": {
    "collapsed": false,
    "deletable": true,
    "editable": true
   },
   "outputs": [
    {
     "name": "stdout",
     "output_type": "stream",
     "text": [
      "Tests Passed\n"
     ]
    }
   ],
   "source": [
    "def train_neural_network(session, optimizer, keep_probability, feature_batch, label_batch):\n",
    "    \"\"\"\n",
    "    Optimize the session on a batch of images and labels\n",
    "    : session: Current TensorFlow session\n",
    "    : optimizer: TensorFlow optimizer function\n",
    "    : keep_probability: keep probability\n",
    "    : feature_batch: Batch of Numpy image data\n",
    "    : label_batch: Batch of Numpy label data\n",
    "    \"\"\"\n",
    "    session.run(\n",
    "        optimizer,\n",
    "        feed_dict = {\n",
    "            x: feature_batch,\n",
    "            y: label_batch,\n",
    "            keep_prob: keep_probability\n",
    "        }\n",
    "    )\n",
    "\n",
    "\n",
    "\"\"\"\n",
    "DON'T MODIFY ANYTHING IN THIS CELL THAT IS BELOW THIS LINE\n",
    "\"\"\"\n",
    "tests.test_train_nn(train_neural_network)"
   ]
  },
  {
   "cell_type": "markdown",
   "metadata": {
    "deletable": true,
    "editable": true
   },
   "source": [
    "### Show Stats\n",
    "Implement the function `print_stats` to print loss and validation accuracy.  Use the global variables `valid_features` and `valid_labels` to calculate validation accuracy.  Use a keep probability of `1.0` to calculate the loss and validation accuracy."
   ]
  },
  {
   "cell_type": "code",
   "execution_count": 761,
   "metadata": {
    "collapsed": false,
    "deletable": true,
    "editable": true
   },
   "outputs": [],
   "source": [
    "def print_stats(session, feature_batch, label_batch, cost, accuracy):\n",
    "    \"\"\"\n",
    "    Print information about loss and validation accuracy\n",
    "    : session: Current TensorFlow session\n",
    "    : feature_batch: Batch of Numpy image data\n",
    "    : label_batch: Batch of Numpy label data\n",
    "    : cost: TensorFlow cost function\n",
    "    : accuracy: TensorFlow accuracy function\n",
    "    \"\"\"\n",
    "    validation_accuracy = session.run(\n",
    "        accuracy,\n",
    "        feed_dict = {\n",
    "            x: valid_features,\n",
    "            y: valid_labels,\n",
    "            keep_prob: 1.0\n",
    "        }\n",
    "    )\n",
    "    loss = session.run(\n",
    "        cost,\n",
    "        feed_dict = {\n",
    "            x: feature_batch,\n",
    "            y: label_batch,\n",
    "            keep_prob: 1.0\n",
    "        }\n",
    "    )\n",
    "    print('validation accuracy: {:.4f}; loss: {:.4f}'.format(validation_accuracy, loss))"
   ]
  },
  {
   "cell_type": "markdown",
   "metadata": {
    "deletable": true,
    "editable": true
   },
   "source": [
    "### Hyperparameters\n",
    "Tune the following parameters:\n",
    "* Set `epochs` to the number of iterations until the network stops learning or start overfitting\n",
    "* Set `batch_size` to the highest number that your machine has memory for.  Most people set them to common sizes of memory:\n",
    " * 64\n",
    " * 128\n",
    " * 256\n",
    " * ...\n",
    "* Set `keep_probability` to the probability of keeping a node using dropout"
   ]
  },
  {
   "cell_type": "code",
   "execution_count": 762,
   "metadata": {
    "collapsed": true,
    "deletable": true,
    "editable": true
   },
   "outputs": [],
   "source": [
    "# TODO: Tune Parameters\n",
    "epochs = 100\n",
    "batch_size = 256\n",
    "keep_probability = 0.5"
   ]
  },
  {
   "cell_type": "markdown",
   "metadata": {
    "deletable": true,
    "editable": true
   },
   "source": [
    "### Train on a Single CIFAR-10 Batch\n",
    "Instead of training the neural network on all the CIFAR-10 batches of data, let's use a single batch. This should save time while you iterate on the model to get a better accuracy.  Once the final validation accuracy is 50% or greater, run the model on all the data in the next section."
   ]
  },
  {
   "cell_type": "code",
   "execution_count": 763,
   "metadata": {
    "collapsed": false,
    "deletable": true,
    "editable": true
   },
   "outputs": [
    {
     "name": "stdout",
     "output_type": "stream",
     "text": [
      "Checking the Training on a Single Batch...\n",
      "Epoch  1, CIFAR-10 Batch 1:  validation accuracy: 0.1050; loss: 2.2981\n",
      "Epoch  2, CIFAR-10 Batch 1:  validation accuracy: 0.1716; loss: 2.2551\n",
      "Epoch  3, CIFAR-10 Batch 1:  validation accuracy: 0.1986; loss: 2.1729\n",
      "Epoch  4, CIFAR-10 Batch 1:  validation accuracy: 0.1892; loss: 2.1955\n",
      "Epoch  5, CIFAR-10 Batch 1:  validation accuracy: 0.2614; loss: 2.1650\n",
      "Epoch  6, CIFAR-10 Batch 1:  validation accuracy: 0.2526; loss: 2.0275\n",
      "Epoch  7, CIFAR-10 Batch 1:  validation accuracy: 0.2746; loss: 1.9929\n",
      "Epoch  8, CIFAR-10 Batch 1:  validation accuracy: 0.3140; loss: 1.9473\n",
      "Epoch  9, CIFAR-10 Batch 1:  validation accuracy: 0.3386; loss: 1.9134\n",
      "Epoch 10, CIFAR-10 Batch 1:  validation accuracy: 0.3448; loss: 1.7822\n",
      "Epoch 11, CIFAR-10 Batch 1:  validation accuracy: 0.3570; loss: 1.7308\n",
      "Epoch 12, CIFAR-10 Batch 1:  validation accuracy: 0.3780; loss: 1.6051\n",
      "Epoch 13, CIFAR-10 Batch 1:  validation accuracy: 0.3878; loss: 1.6320\n",
      "Epoch 14, CIFAR-10 Batch 1:  validation accuracy: 0.4006; loss: 1.4256\n",
      "Epoch 15, CIFAR-10 Batch 1:  validation accuracy: 0.4244; loss: 1.3262\n",
      "Epoch 16, CIFAR-10 Batch 1:  validation accuracy: 0.4594; loss: 1.2310\n",
      "Epoch 17, CIFAR-10 Batch 1:  validation accuracy: 0.4402; loss: 1.2569\n",
      "Epoch 18, CIFAR-10 Batch 1:  validation accuracy: 0.4716; loss: 1.0780\n",
      "Epoch 19, CIFAR-10 Batch 1:  validation accuracy: 0.4952; loss: 1.0192\n",
      "Epoch 20, CIFAR-10 Batch 1:  validation accuracy: 0.5080; loss: 0.9276\n",
      "Epoch 21, CIFAR-10 Batch 1:  validation accuracy: 0.4958; loss: 0.8824\n",
      "Epoch 22, CIFAR-10 Batch 1:  validation accuracy: 0.4918; loss: 0.8793\n",
      "Epoch 23, CIFAR-10 Batch 1:  validation accuracy: 0.5052; loss: 0.8557\n",
      "Epoch 24, CIFAR-10 Batch 1:  validation accuracy: 0.5264; loss: 0.6951\n",
      "Epoch 25, CIFAR-10 Batch 1:  validation accuracy: 0.5198; loss: 0.6794\n",
      "Epoch 26, CIFAR-10 Batch 1:  validation accuracy: 0.5060; loss: 0.6709\n",
      "Epoch 27, CIFAR-10 Batch 1:  validation accuracy: 0.5294; loss: 0.6046\n",
      "Epoch 28, CIFAR-10 Batch 1:  validation accuracy: 0.5184; loss: 0.5761\n",
      "Epoch 29, CIFAR-10 Batch 1:  validation accuracy: 0.5150; loss: 0.5841\n",
      "Epoch 30, CIFAR-10 Batch 1:  validation accuracy: 0.5476; loss: 0.5022\n",
      "Epoch 31, CIFAR-10 Batch 1:  validation accuracy: 0.5488; loss: 0.4622\n",
      "Epoch 32, CIFAR-10 Batch 1:  validation accuracy: 0.5306; loss: 0.4381\n",
      "Epoch 33, CIFAR-10 Batch 1:  validation accuracy: 0.4782; loss: 0.6046\n",
      "Epoch 34, CIFAR-10 Batch 1:  validation accuracy: 0.5664; loss: 0.3880\n",
      "Epoch 35, CIFAR-10 Batch 1:  validation accuracy: 0.5640; loss: 0.3572\n",
      "Epoch 36, CIFAR-10 Batch 1:  validation accuracy: 0.5760; loss: 0.3739\n",
      "Epoch 37, CIFAR-10 Batch 1:  validation accuracy: 0.5698; loss: 0.3436\n",
      "Epoch 38, CIFAR-10 Batch 1:  validation accuracy: 0.5658; loss: 0.2868\n",
      "Epoch 39, CIFAR-10 Batch 1:  validation accuracy: 0.5626; loss: 0.2740\n",
      "Epoch 40, CIFAR-10 Batch 1:  validation accuracy: 0.5856; loss: 0.2377\n",
      "Epoch 41, CIFAR-10 Batch 1:  validation accuracy: 0.5660; loss: 0.2307\n",
      "Epoch 42, CIFAR-10 Batch 1:  validation accuracy: 0.5806; loss: 0.2081\n",
      "Epoch 43, CIFAR-10 Batch 1:  validation accuracy: 0.5830; loss: 0.1892\n",
      "Epoch 44, CIFAR-10 Batch 1:  validation accuracy: 0.5744; loss: 0.1666\n",
      "Epoch 45, CIFAR-10 Batch 1:  validation accuracy: 0.5904; loss: 0.1682\n",
      "Epoch 46, CIFAR-10 Batch 1:  validation accuracy: 0.5920; loss: 0.1512\n",
      "Epoch 47, CIFAR-10 Batch 1:  validation accuracy: 0.6056; loss: 0.1504\n",
      "Epoch 48, CIFAR-10 Batch 1:  validation accuracy: 0.5988; loss: 0.1391\n",
      "Epoch 49, CIFAR-10 Batch 1:  validation accuracy: 0.5896; loss: 0.1511\n",
      "Epoch 50, CIFAR-10 Batch 1:  validation accuracy: 0.5942; loss: 0.1221\n",
      "Epoch 51, CIFAR-10 Batch 1:  validation accuracy: 0.5864; loss: 0.1210\n",
      "Epoch 52, CIFAR-10 Batch 1:  validation accuracy: 0.5926; loss: 0.0918\n",
      "Epoch 53, CIFAR-10 Batch 1:  validation accuracy: 0.5940; loss: 0.1036\n",
      "Epoch 54, CIFAR-10 Batch 1:  validation accuracy: 0.5934; loss: 0.0979\n",
      "Epoch 55, CIFAR-10 Batch 1:  validation accuracy: 0.5914; loss: 0.0814\n",
      "Epoch 56, CIFAR-10 Batch 1:  validation accuracy: 0.5860; loss: 0.0803\n",
      "Epoch 57, CIFAR-10 Batch 1:  validation accuracy: 0.6032; loss: 0.0808\n",
      "Epoch 58, CIFAR-10 Batch 1:  validation accuracy: 0.6074; loss: 0.0903\n",
      "Epoch 59, CIFAR-10 Batch 1:  validation accuracy: 0.6018; loss: 0.0872\n",
      "Epoch 60, CIFAR-10 Batch 1:  validation accuracy: 0.6026; loss: 0.0750\n",
      "Epoch 61, CIFAR-10 Batch 1:  validation accuracy: 0.5918; loss: 0.0861\n",
      "Epoch 62, CIFAR-10 Batch 1:  validation accuracy: 0.5926; loss: 0.0635\n",
      "Epoch 63, CIFAR-10 Batch 1:  validation accuracy: 0.5896; loss: 0.0632\n",
      "Epoch 64, CIFAR-10 Batch 1:  validation accuracy: 0.5856; loss: 0.0781\n",
      "Epoch 65, CIFAR-10 Batch 1:  validation accuracy: 0.5876; loss: 0.0815\n",
      "Epoch 66, CIFAR-10 Batch 1:  validation accuracy: 0.5948; loss: 0.0706\n",
      "Epoch 67, CIFAR-10 Batch 1:  validation accuracy: 0.5928; loss: 0.0474\n",
      "Epoch 68, CIFAR-10 Batch 1:  validation accuracy: 0.6044; loss: 0.0424\n",
      "Epoch 69, CIFAR-10 Batch 1:  validation accuracy: 0.5936; loss: 0.0417\n",
      "Epoch 70, CIFAR-10 Batch 1:  validation accuracy: 0.5714; loss: 0.0445\n",
      "Epoch 71, CIFAR-10 Batch 1:  validation accuracy: 0.5844; loss: 0.0530\n",
      "Epoch 72, CIFAR-10 Batch 1:  validation accuracy: 0.6110; loss: 0.0437\n",
      "Epoch 73, CIFAR-10 Batch 1:  validation accuracy: 0.5980; loss: 0.0249\n",
      "Epoch 74, CIFAR-10 Batch 1:  validation accuracy: 0.5960; loss: 0.0320\n",
      "Epoch 75, CIFAR-10 Batch 1:  validation accuracy: 0.6054; loss: 0.0247\n",
      "Epoch 76, CIFAR-10 Batch 1:  validation accuracy: 0.6078; loss: 0.0306\n",
      "Epoch 77, CIFAR-10 Batch 1:  validation accuracy: 0.6052; loss: 0.0220\n",
      "Epoch 78, CIFAR-10 Batch 1:  validation accuracy: 0.6104; loss: 0.0243\n",
      "Epoch 79, CIFAR-10 Batch 1:  validation accuracy: 0.6164; loss: 0.0237\n",
      "Epoch 80, CIFAR-10 Batch 1:  validation accuracy: 0.6002; loss: 0.0218\n",
      "Epoch 81, CIFAR-10 Batch 1:  validation accuracy: 0.6120; loss: 0.0234\n",
      "Epoch 82, CIFAR-10 Batch 1:  validation accuracy: 0.6088; loss: 0.0164\n",
      "Epoch 83, CIFAR-10 Batch 1:  validation accuracy: 0.6042; loss: 0.0280\n",
      "Epoch 84, CIFAR-10 Batch 1:  validation accuracy: 0.6060; loss: 0.0155\n",
      "Epoch 85, CIFAR-10 Batch 1:  validation accuracy: 0.6080; loss: 0.0210\n",
      "Epoch 86, CIFAR-10 Batch 1:  validation accuracy: 0.6192; loss: 0.0124\n",
      "Epoch 87, CIFAR-10 Batch 1:  validation accuracy: 0.6210; loss: 0.0086\n",
      "Epoch 88, CIFAR-10 Batch 1:  validation accuracy: 0.6124; loss: 0.0156\n",
      "Epoch 89, CIFAR-10 Batch 1:  validation accuracy: 0.6030; loss: 0.0115\n",
      "Epoch 90, CIFAR-10 Batch 1:  validation accuracy: 0.6018; loss: 0.0202\n",
      "Epoch 91, CIFAR-10 Batch 1:  validation accuracy: 0.6230; loss: 0.0130\n",
      "Epoch 92, CIFAR-10 Batch 1:  validation accuracy: 0.6182; loss: 0.0114\n",
      "Epoch 93, CIFAR-10 Batch 1:  validation accuracy: 0.6150; loss: 0.0177\n",
      "Epoch 94, CIFAR-10 Batch 1:  validation accuracy: 0.6190; loss: 0.0122\n",
      "Epoch 95, CIFAR-10 Batch 1:  validation accuracy: 0.6156; loss: 0.0169\n",
      "Epoch 96, CIFAR-10 Batch 1:  validation accuracy: 0.6032; loss: 0.0075\n",
      "Epoch 97, CIFAR-10 Batch 1:  validation accuracy: 0.6034; loss: 0.0168\n",
      "Epoch 98, CIFAR-10 Batch 1:  validation accuracy: 0.5874; loss: 0.0276\n",
      "Epoch 99, CIFAR-10 Batch 1:  validation accuracy: 0.6102; loss: 0.0092\n",
      "Epoch 100, CIFAR-10 Batch 1:  validation accuracy: 0.6214; loss: 0.0105\n"
     ]
    }
   ],
   "source": [
    "\"\"\"\n",
    "DON'T MODIFY ANYTHING IN THIS CELL\n",
    "\"\"\"\n",
    "print('Checking the Training on a Single Batch...')\n",
    "with tf.Session() as sess:\n",
    "    # Initializing the variables\n",
    "    sess.run(tf.global_variables_initializer())\n",
    "    \n",
    "    # Training cycle\n",
    "    for epoch in range(epochs):\n",
    "        batch_i = 1\n",
    "        for batch_features, batch_labels in helper.load_preprocess_training_batch(batch_i, batch_size):\n",
    "            train_neural_network(sess, optimizer, keep_probability, batch_features, batch_labels)\n",
    "        print('Epoch {:>2}, CIFAR-10 Batch {}:  '.format(epoch + 1, batch_i), end='')\n",
    "        print_stats(sess, batch_features, batch_labels, cost, accuracy)"
   ]
  },
  {
   "cell_type": "markdown",
   "metadata": {
    "deletable": true,
    "editable": true
   },
   "source": [
    "### Fully Train the Model\n",
    "Now that you got a good accuracy with a single CIFAR-10 batch, try it with all five batches."
   ]
  },
  {
   "cell_type": "code",
   "execution_count": null,
   "metadata": {
    "collapsed": false,
    "deletable": true,
    "editable": true
   },
   "outputs": [],
   "source": [
    "\"\"\"\n",
    "DON'T MODIFY ANYTHING IN THIS CELL\n",
    "\"\"\"\n",
    "save_model_path = './image_classification'\n",
    "\n",
    "print('Training...')\n",
    "with tf.Session() as sess:\n",
    "    # Initializing the variables\n",
    "    sess.run(tf.global_variables_initializer())\n",
    "    \n",
    "    # Training cycle\n",
    "    for epoch in range(epochs):\n",
    "        # Loop over all batches\n",
    "        n_batches = 5\n",
    "        for batch_i in range(1, n_batches + 1):\n",
    "            for batch_features, batch_labels in helper.load_preprocess_training_batch(batch_i, batch_size):\n",
    "                train_neural_network(sess, optimizer, keep_probability, batch_features, batch_labels)\n",
    "            print('Epoch {:>2}, CIFAR-10 Batch {}:  '.format(epoch + 1, batch_i), end='')\n",
    "            print_stats(sess, batch_features, batch_labels, cost, accuracy)\n",
    "            \n",
    "    # Save Model\n",
    "    saver = tf.train.Saver()\n",
    "    save_path = saver.save(sess, save_model_path)"
   ]
  },
  {
   "cell_type": "markdown",
   "metadata": {
    "deletable": true,
    "editable": true
   },
   "source": [
    "# Checkpoint\n",
    "The model has been saved to disk.\n",
    "## Test Model\n",
    "Test your model against the test dataset.  This will be your final accuracy. You should have an accuracy greater than 50%. If you don't, keep tweaking the model architecture and parameters."
   ]
  },
  {
   "cell_type": "code",
   "execution_count": 700,
   "metadata": {
    "collapsed": false,
    "deletable": true,
    "editable": true
   },
   "outputs": [
    {
     "name": "stdout",
     "output_type": "stream",
     "text": [
      "Testing Accuracy: 0.78359375\n",
      "\n"
     ]
    },
    {
     "data": {
      "image/png": "[encoded data removed]",
      "text/plain": [
       "<matplotlib.figure.Figure at 0x7f91fbd26f98>"
      ]
     },
     "metadata": {
      "image/png": {
       "height": 319,
       "width": 355
      }
     },
     "output_type": "display_data"
    }
   ],
   "source": [
    "\"\"\"\n",
    "DON'T MODIFY ANYTHING IN THIS CELL\n",
    "\"\"\"\n",
    "%matplotlib inline\n",
    "%config InlineBackend.figure_format = 'retina'\n",
    "\n",
    "import tensorflow as tf\n",
    "import pickle\n",
    "import helper\n",
    "import random\n",
    "\n",
    "# Set batch size if not already set\n",
    "try:\n",
    "    if batch_size:\n",
    "        pass\n",
    "except NameError:\n",
    "    batch_size = 64\n",
    "\n",
    "save_model_path = './image_classification'\n",
    "n_samples = 4\n",
    "top_n_predictions = 3\n",
    "\n",
    "def test_model():\n",
    "    \"\"\"\n",
    "    Test the saved model against the test dataset\n",
    "    \"\"\"\n",
    "\n",
    "    test_features, test_labels = pickle.load(open('preprocess_training.p', mode='rb'))\n",
    "    loaded_graph = tf.Graph()\n",
    "\n",
    "    with tf.Session(graph=loaded_graph) as sess:\n",
    "        # Load model\n",
    "        loader = tf.train.import_meta_graph(save_model_path + '.meta')\n",
    "        loader.restore(sess, save_model_path)\n",
    "\n",
    "        # Get Tensors from loaded model\n",
    "        loaded_x = loaded_graph.get_tensor_by_name('x:0')\n",
    "        loaded_y = loaded_graph.get_tensor_by_name('y:0')\n",
    "        loaded_keep_prob = loaded_graph.get_tensor_by_name('keep_prob:0')\n",
    "        loaded_logits = loaded_graph.get_tensor_by_name('logits:0')\n",
    "        loaded_acc = loaded_graph.get_tensor_by_name('accuracy:0')\n",
    "        \n",
    "        # Get accuracy in batches for memory limitations\n",
    "        test_batch_acc_total = 0\n",
    "        test_batch_count = 0\n",
    "        \n",
    "        for train_feature_batch, train_label_batch in helper.batch_features_labels(test_features, test_labels, batch_size):\n",
    "            test_batch_acc_total += sess.run(\n",
    "                loaded_acc,\n",
    "                feed_dict={loaded_x: train_feature_batch, loaded_y: train_label_batch, loaded_keep_prob: 1.0})\n",
    "            test_batch_count += 1\n",
    "\n",
    "        print('Testing Accuracy: {}\\n'.format(test_batch_acc_total/test_batch_count))\n",
    "\n",
    "        # Print Random Samples\n",
    "        random_test_features, random_test_labels = tuple(zip(*random.sample(list(zip(test_features, test_labels)), n_samples)))\n",
    "        random_test_predictions = sess.run(\n",
    "            tf.nn.top_k(tf.nn.softmax(loaded_logits), top_n_predictions),\n",
    "            feed_dict={loaded_x: random_test_features, loaded_y: random_test_labels, loaded_keep_prob: 1.0})\n",
    "        helper.display_image_predictions(random_test_features, random_test_labels, random_test_predictions)\n",
    "\n",
    "\n",
    "test_model()"
   ]
  },
  {
   "cell_type": "markdown",
   "metadata": {
    "deletable": true,
    "editable": true
   },
   "source": [
    "## Why 50-70% Accuracy?\n",
    "You might be wondering why you can't get an accuracy any higher. First things first, 50% isn't bad for a simple CNN.  Pure guessing would get you 10% accuracy. However, you might notice people are getting scores [well above 70%](http://rodrigob.github.io/are_we_there_yet/build/classification_datasets_results.html#43494641522d3130).  That's because we haven't taught you all there is to know about neural networks. We still need to cover a few more techniques.\n",
    "## Submitting This Project\n",
    "When submitting this project, make sure to run all the cells before saving the notebook.  Save the notebook file as \"dlnd_image_classification.ipynb\" and save it as a HTML file under \"File\" -> \"Download as\".  Include the \"helper.py\" and \"problem_unittests.py\" files in your submission."
   ]
  },
  {
   "cell_type": "code",
   "execution_count": null,
   "metadata": {
    "collapsed": true,
    "deletable": true,
    "editable": true
   },
   "outputs": [],
   "source": []
  }
 ],
 "metadata": {
  "kernelspec": {
   "display_name": "Python 3",
   "language": "python",
   "name": "python3"
  },
  "language_info": {
   "codemirror_mode": {
    "name": "ipython",
    "version": 3
   },
   "file_extension": ".py",
   "mimetype": "text/x-python",
   "name": "python",
   "nbconvert_exporter": "python",
   "pygments_lexer": "ipython3",
   "version": "3.5.2"
  },
  "widgets": {
   "state": {},
   "version": "1.1.2"
  }
 },
 "nbformat": 4,
 "nbformat_minor": 0
}
